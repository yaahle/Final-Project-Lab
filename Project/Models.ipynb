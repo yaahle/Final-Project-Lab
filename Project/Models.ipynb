{
 "cells": [
  {
   "cell_type": "code",
   "execution_count": 1,
   "id": "742088e7",
   "metadata": {},
   "outputs": [],
   "source": [
    "import csv\n",
    "import numpy as np\n",
    "import pandas as pd\n",
    "import scipy as sp\n",
    "import matplotlib.pyplot as plt\n",
    "import math\n",
    "import os\n",
    "from sklearn.model_selection import train_test_split\n",
    "from sklearn.linear_model import LogisticRegression\n",
    "from sklearn.metrics import confusion_matrix\n",
    "from sklearn import tree\n",
    "from sklearn import ensemble\n",
    "import joblib\n",
    "\n",
    "# load data\n",
    "data_df = pd.read_csv(\"out.csv\")\n"
   ]
  },
  {
   "cell_type": "code",
   "execution_count": 2,
   "id": "2dd564cd",
   "metadata": {},
   "outputs": [
    {
     "name": "stdout",
     "output_type": "stream",
     "text": [
      "   Married  Education  Self_Employed  Loan_Amount  Coapplicant      Term   \n",
      "0        0          1              0     0.326679            0  0.666667  \\\n",
      "1        1          1              0    -0.101226            1  0.666667   \n",
      "\n",
      "   Credit_History  Area  Status  \n",
      "0               1     0     1.0  \n",
      "1               1     2     0.0  \n",
      "     Married  Education  Self_Employed  Loan_Amount  Coapplicant      Term   \n",
      "825        1          1              0     0.482281            1  0.666667  \\\n",
      "826        0          1              1    -0.684733            0  0.166667   \n",
      "\n",
      "     Credit_History  Area  Status  \n",
      "825               1     2     NaN  \n",
      "826               1     2     NaN  \n",
      "827\n"
     ]
    }
   ],
   "source": [
    "# print heads & tails, shape of data\n",
    "print(data_df.head(2))\n",
    "print(data_df.tail(2))\n",
    "print(data_df.shape[0])"
   ]
  },
  {
   "cell_type": "code",
   "execution_count": 3,
   "id": "19472560",
   "metadata": {},
   "outputs": [],
   "source": [
    "# ignore observations with no status\n",
    "data_df = data_df.dropna()"
   ]
  },
  {
   "cell_type": "code",
   "execution_count": 4,
   "id": "3065b324",
   "metadata": {},
   "outputs": [
    {
     "name": "stdout",
     "output_type": "stream",
     "text": [
      "   Married  Education  Self_Employed  Loan_Amount  Coapplicant      Term   \n",
      "0        0          1              0     0.326679            0  0.666667  \\\n",
      "1        1          1              0    -0.101226            1  0.666667   \n",
      "\n",
      "   Credit_History  Area  Status  \n",
      "0               1     0     1.0  \n",
      "1               1     2     0.0  \n",
      "     Married  Education  Self_Employed  Loan_Amount  Coapplicant      Term   \n",
      "501        1          1              0     1.046337            0  0.666667  \\\n",
      "502        0          1              1    -0.003975            0  0.666667   \n",
      "\n",
      "     Credit_History  Area  Status  \n",
      "501               1     0     1.0  \n",
      "502               0     1     0.0  \n",
      "503\n"
     ]
    }
   ],
   "source": [
    "# print heads & tails, shape of data\n",
    "print(data_df.head(2))\n",
    "print(data_df.tail(2))\n",
    "print(data_df.shape[0])  # 503 observations are left"
   ]
  },
  {
   "cell_type": "code",
   "execution_count": 5,
   "id": "f3fb0503",
   "metadata": {},
   "outputs": [
    {
     "name": "stdout",
     "output_type": "stream",
     "text": [
      "   Married  Education  Self_Employed  Loan_Amount  Coapplicant      Term   \n",
      "0        0          1              0     0.326679            0  0.666667  \\\n",
      "1        1          1              0    -0.101226            1  0.666667   \n",
      "2        1          0              0    -0.256828            1  0.666667   \n",
      "3        0          1              0     0.151627            0  0.666667   \n",
      "4        1          0              0    -0.743083            1  0.666667   \n",
      "\n",
      "   Credit_History  Area  \n",
      "0               1     0  \n",
      "1               1     2  \n",
      "2               1     0  \n",
      "3               1     0  \n",
      "4               1     0  \n",
      "0    1.0\n",
      "1    0.0\n",
      "2    1.0\n",
      "3    1.0\n",
      "4    1.0\n",
      "Name: Status, dtype: float64\n"
     ]
    }
   ],
   "source": [
    "# Separate into features (X) and target (Y)\n",
    "X = data_df[[\"Married\", \"Education\", \"Self_Employed\", \"Loan_Amount\", \"Coapplicant\", \"Term\", \"Credit_History\", \"Area\"]]\n",
    "Y = data_df[\"Status\"]\n",
    "\n",
    "print(X.head(5))\n",
    "print(Y.head(5))"
   ]
  },
  {
   "cell_type": "code",
   "execution_count": 6,
   "id": "59a2a3ef",
   "metadata": {},
   "outputs": [],
   "source": [
    "# Separate into train data 80%, test data 20%\n",
    "X_train, X_test, Y_train, Y_test = train_test_split(X, Y, test_size=0.2, random_state=4)"
   ]
  },
  {
   "cell_type": "markdown",
   "id": "5748c836",
   "metadata": {},
   "source": [
    "# Logistic Regression:"
   ]
  },
  {
   "cell_type": "code",
   "execution_count": 7,
   "id": "7f2e8808",
   "metadata": {},
   "outputs": [],
   "source": [
    "# fit Logistic Regression model\n",
    "log_model = LogisticRegression(random_state=4).fit(X_train, Y_train)"
   ]
  },
  {
   "cell_type": "code",
   "execution_count": 8,
   "id": "2e1cf23f",
   "metadata": {},
   "outputs": [
    {
     "name": "stdout",
     "output_type": "stream",
     "text": [
      "0.801980198019802\n"
     ]
    }
   ],
   "source": [
    "# print mean accuracy of model on testing data\n",
    "print(log_model.score(X_test, Y_test))"
   ]
  },
  {
   "cell_type": "code",
   "execution_count": 9,
   "id": "07c404ba",
   "metadata": {},
   "outputs": [
    {
     "name": "stdout",
     "output_type": "stream",
     "text": [
      "(16, 19, 1, 65)\n"
     ]
    }
   ],
   "source": [
    "# predict testing data and print confusion matrix\n",
    "predictions = log_model.predict(X_test)\n",
    "tn, fp, fn, tp = confusion_matrix(Y_test, predictions).ravel()\n",
    "print((tn, fp, fn, tp))"
   ]
  },
  {
   "cell_type": "code",
   "execution_count": 10,
   "id": "70a56c5a",
   "metadata": {},
   "outputs": [
    {
     "name": "stdout",
     "output_type": "stream",
     "text": [
      "0.9848484848484849\n",
      "0.45714285714285713\n"
     ]
    }
   ],
   "source": [
    "# calculate sensitivity and specificity\n",
    "Sensitivity = tp / (tp + fn)\n",
    "Specificity = tn / (fp + tn)\n",
    "print(Sensitivity)\n",
    "print(Specificity)"
   ]
  },
  {
   "cell_type": "markdown",
   "id": "995dd0e3",
   "metadata": {},
   "source": [
    "# Decision Tree:"
   ]
  },
  {
   "cell_type": "code",
   "execution_count": 11,
   "id": "34317edf",
   "metadata": {},
   "outputs": [],
   "source": [
    "# fit Decision Tree model with unlimited depth  -- base model\n",
    "tree_model = tree.DecisionTreeClassifier().fit(X_train, Y_train)"
   ]
  },
  {
   "cell_type": "code",
   "execution_count": 12,
   "id": "f259f531",
   "metadata": {},
   "outputs": [
    {
     "name": "stdout",
     "output_type": "stream",
     "text": [
      "0.7227722772277227\n"
     ]
    }
   ],
   "source": [
    "# print mean accuracy of model on testing data\n",
    "print(tree_model.score(X_test, Y_test))"
   ]
  },
  {
   "cell_type": "code",
   "execution_count": 13,
   "id": "0b79ada1",
   "metadata": {},
   "outputs": [],
   "source": [
    "def KFold(data_fold, model, cv=5):\n",
    "    chunks = np.array_split(data_fold, cv)  # split into cv chunks\n",
    "    correct_sum = 0\n",
    "\n",
    "    for index in range(cv):\n",
    "        test_chunk = chunks[index]  # get testing chunk\n",
    "\n",
    "        train_chunk = []  # get training chunk by appending the non-testing chunks together\n",
    "        for j in range(cv):\n",
    "            if j != index:\n",
    "                train_chunk.append(chunks[j])\n",
    "        train_chunk = pd.concat(train_chunk)\n",
    "        \n",
    "        # separate into X,Y\n",
    "        X_train_fold = train_chunk[[\"Married\", \"Education\", \"Self_Employed\", \"Loan_Amount\", \"Coapplicant\", \"Term\", \"Credit_History\", \"Area\"]]\n",
    "        Y_train_fold = train_chunk[\"Status\"]\n",
    "        X_test_fold = test_chunk[[\"Married\", \"Education\", \"Self_Employed\", \"Loan_Amount\", \"Coapplicant\", \"Term\", \"Credit_History\", \"Area\"]]\n",
    "        Y_test_fold = test_chunk[\"Status\"]\n",
    "        # fit forest and add the score to the sum\n",
    "        model.fit(X_train_fold, Y_train_fold)  \n",
    "        correct_sum = correct_sum + model.score(X_test_fold, Y_test_fold)\n",
    "    return correct_sum / cv\n"
   ]
  },
  {
   "cell_type": "code",
   "execution_count": 14,
   "id": "88543dbe",
   "metadata": {},
   "outputs": [
    {
     "data": {
      "image/png": "[encoded data removed]",
      "text/plain": [
       "<Figure size 640x480 with 1 Axes>"
      ]
     },
     "metadata": {},
     "output_type": "display_data"
    }
   ],
   "source": [
    "correct_tree = []\n",
    "\n",
    "# use K-Fold validation on entire dataset with K=12 to find the best depth for the tree\n",
    "for i in range(3,15):\n",
    "    treeI = tree.DecisionTreeClassifier(max_depth=i,random_state=4)\n",
    "    correct_tree.append(KFold(data_fold=data_df, model=treeI, cv=12))\n",
    "\n",
    "plt.plot(range(3,15), np.array(correct_tree))\n",
    "plt.xlabel('Tree depth')\n",
    "plt.ylabel('Avg accuracy')\n",
    "plt.show()"
   ]
  },
  {
   "cell_type": "markdown",
   "id": "9e689b5c",
   "metadata": {},
   "source": [
    "We can see that the best Tree is at Depth 4, afterwards the model's accuracy goes down because of overfitting"
   ]
  },
  {
   "cell_type": "code",
   "execution_count": 15,
   "id": "f924a282",
   "metadata": {},
   "outputs": [],
   "source": [
    "# fit Decision Tree model with the best depth found (depth = 4)\n",
    "tree_model = tree.DecisionTreeClassifier(max_depth=4).fit(X_train, Y_train)"
   ]
  },
  {
   "cell_type": "code",
   "execution_count": 16,
   "id": "5fe5fe31",
   "metadata": {},
   "outputs": [
    {
     "name": "stdout",
     "output_type": "stream",
     "text": [
      "0.801980198019802\n"
     ]
    }
   ],
   "source": [
    "# print mean accuracy of model on testing data\n",
    "print(tree_model.score(X_test, Y_test))"
   ]
  },
  {
   "cell_type": "code",
   "execution_count": 17,
   "id": "6d819e22",
   "metadata": {
    "scrolled": true
   },
   "outputs": [
    {
     "name": "stdout",
     "output_type": "stream",
     "text": [
      "['Married' 'Education' 'Self_Employed' 'Loan_Amount' 'Coapplicant' 'Term'\n",
      " 'Credit_History' 'Area']\n",
      "[0.         0.         0.03814817 0.07749672 0.03088726 0.0053074\n",
      " 0.79884756 0.0493129 ]\n"
     ]
    }
   ],
   "source": [
    "print(tree_model.feature_names_in_)\n",
    "print(tree_model.feature_importances_)"
   ]
  },
  {
   "cell_type": "markdown",
   "id": "04a591ae",
   "metadata": {},
   "source": [
    "# Random Forest"
   ]
  },
  {
   "cell_type": "code",
   "execution_count": 18,
   "id": "b2a5ab24",
   "metadata": {},
   "outputs": [
    {
     "data": {
      "image/png": "[encoded data removed]",
      "text/plain": [
       "<Figure size 640x480 with 1 Axes>"
      ]
     },
     "metadata": {},
     "output_type": "display_data"
    }
   ],
   "source": [
    "correct_forest = []\n",
    "\n",
    "# use K-Fold validation on entire dataset with K=12 to find the best number of trees to grow in the forest\n",
    "for i in range(1,15):\n",
    "    forestI = ensemble.RandomForestClassifier(n_estimators=i, max_depth=4,random_state=4)\n",
    "    correct_forest.append(KFold(data_fold=data_df, model=forestI, cv=12))\n",
    "\n",
    "plt.plot(range(1,15), np.array(correct_forest))\n",
    "plt.xlabel('Number of Trees in Forest')\n",
    "plt.ylabel('Avg accuracy')\n",
    "plt.show()"
   ]
  },
  {
   "cell_type": "markdown",
   "id": "86193d93",
   "metadata": {},
   "source": [
    "We can see that the optimal number of trees in the forest is 7"
   ]
  },
  {
   "cell_type": "code",
   "execution_count": 19,
   "id": "0081861f",
   "metadata": {},
   "outputs": [],
   "source": [
    "# fit Random Forest model with the best number of trees found (n_estimators = 7)\n",
    "forest_model = ensemble.RandomForestClassifier(n_estimators=7, max_depth=4, random_state=10).fit(X_train, Y_train)"
   ]
  },
  {
   "cell_type": "code",
   "execution_count": 20,
   "id": "ef1daf3f",
   "metadata": {},
   "outputs": [
    {
     "name": "stdout",
     "output_type": "stream",
     "text": [
      "0.8118811881188119\n"
     ]
    }
   ],
   "source": [
    "# print mean accuracy of model on testing data\n",
    "print(forest_model.score(X_test, Y_test))"
   ]
  },
  {
   "cell_type": "code",
   "execution_count": 21,
   "id": "ca1ce084",
   "metadata": {},
   "outputs": [
    {
     "name": "stdout",
     "output_type": "stream",
     "text": [
      "(17, 18, 1, 65)\n"
     ]
    }
   ],
   "source": [
    "# predict testing data and print confusion matrix\n",
    "predictions = forest_model.predict(X_test)\n",
    "tn, fp, fn, tp = confusion_matrix(Y_test, predictions).ravel()\n",
    "print((tn, fp, fn, tp))"
   ]
  },
  {
   "cell_type": "code",
   "execution_count": 22,
   "id": "5b24471c",
   "metadata": {},
   "outputs": [
    {
     "name": "stdout",
     "output_type": "stream",
     "text": [
      "0.9848484848484849\n",
      "0.4857142857142857\n"
     ]
    }
   ],
   "source": [
    "# calculate sensitivity and specificity\n",
    "Sensitivity = tp / (tp + fn)\n",
    "Specificity = tn / (fp + tn)\n",
    "print(Sensitivity)\n",
    "print(Specificity)  # note the better specificity than the regression model"
   ]
  },
  {
   "cell_type": "code",
   "execution_count": 23,
   "id": "c4815354",
   "metadata": {},
   "outputs": [
    {
     "name": "stdout",
     "output_type": "stream",
     "text": [
      "['Married' 'Education' 'Self_Employed' 'Loan_Amount' 'Coapplicant' 'Term'\n",
      " 'Credit_History' 'Area']\n",
      "[0.03082846 0.04234533 0.00779103 0.07931443 0.0381332  0.05747488\n",
      " 0.6778164  0.06629627]\n"
     ]
    }
   ],
   "source": [
    "print(forest_model.feature_names_in_)\n",
    "print(forest_model.feature_importances_)"
   ]
  },
  {
   "cell_type": "code",
   "execution_count": 24,
   "id": "80555775",
   "metadata": {},
   "outputs": [
    {
     "data": {
      "image/png": "[encoded data removed]",
      "text/plain": [
       "<Figure size 1000x700 with 1 Axes>"
      ]
     },
     "metadata": {},
     "output_type": "display_data"
    }
   ],
   "source": [
    "names = [\"Married\",\"Education\",\"Employement\",\"Loan\",\"Coapplicant\",\"Term\",\"Credit\",\"Area\"]\n",
    "colors = [\"maroon\"] * 6 + [\"red\"] + [\"maroon\"]\n",
    "fig = plt.figure(figsize =(10, 7))\n",
    "plt.bar(names, forest_model.feature_importances_, color = colors, width = 0.4)\n",
    "\n",
    "plt.ylabel(\"Importance\")\n",
    "plt.xlabel(\"Feature\")\n",
    "plt.title(\"Feature Importance According to Random Forest Model\")\n",
    "\n",
    "plt.show()"
   ]
  },
  {
   "cell_type": "markdown",
   "id": "b64f0be2",
   "metadata": {},
   "source": [
    "We can see from the Feature Importance graph, that the most important feature in terms of Information Gain is the Credit Score feature, afterwards the Loan and Term features. The least important features are the Employement and Married features."
   ]
  },
  {
   "cell_type": "code",
   "execution_count": 25,
   "id": "edcae3ab",
   "metadata": {},
   "outputs": [
    {
     "data": {
      "text/plain": [
       "['./random_forest.joblib']"
      ]
     },
     "execution_count": 25,
     "metadata": {},
     "output_type": "execute_result"
    }
   ],
   "source": [
    "# save the random forest model to a file for later use - use joblib.load to load the model from the file\n",
    "joblib.dump(forest_model, \"./random_forest.joblib\")"
   ]
  }
 ],
 "metadata": {
  "kernelspec": {
   "display_name": "Python 3 (ipykernel)",
   "language": "python",
   "name": "python3"
  },
  "language_info": {
   "codemirror_mode": {
    "name": "ipython",
    "version": 3
   },
   "file_extension": ".py",
   "mimetype": "text/x-python",
   "name": "python",
   "nbconvert_exporter": "python",
   "pygments_lexer": "ipython3",
   "version": "3.9.4"
  }
 },
 "nbformat": 4,
 "nbformat_minor": 5
}
