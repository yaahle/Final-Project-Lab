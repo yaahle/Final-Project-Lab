{
 "cells": [
  {
   "cell_type": "code",
   "execution_count": 72,
   "id": "742088e7",
   "metadata": {},
   "outputs": [],
   "source": [
    "import csv\n",
    "import numpy as np\n",
    "import pandas as pd\n",
    "import scipy as sp\n",
    "import matplotlib.pyplot as plt\n",
    "import math\n",
    "import os\n",
    "from sklearn.model_selection import train_test_split\n",
    "from sklearn.linear_model import LogisticRegression\n",
    "from sklearn.metrics import confusion_matrix\n",
    "\n",
    "# load data\n",
    "data_df = pd.read_csv(\"out.csv\")\n"
   ]
  },
  {
   "cell_type": "code",
   "execution_count": 73,
   "id": "2dd564cd",
   "metadata": {},
   "outputs": [
    {
     "name": "stdout",
     "output_type": "stream",
     "text": [
      "   Married  Education  Self_Employed  Loan_Amount  Coapplicant      Term   \n",
      "0        0          1              0     0.326679            0  0.666667  \\\n",
      "1        1          1              0    -0.101226            1  0.666667   \n",
      "\n",
      "   Credit_History  Area  Status  \n",
      "0               1     0     1.0  \n",
      "1               1     2     0.0  \n",
      "     Married  Education  Self_Employed  Loan_Amount  Coapplicant      Term   \n",
      "825        1          1              0     0.482281            1  0.666667  \\\n",
      "826        0          1              1    -0.684733            0  0.166667   \n",
      "\n",
      "     Credit_History  Area  Status  \n",
      "825               1     2     NaN  \n",
      "826               1     2     NaN  \n",
      "827\n"
     ]
    }
   ],
   "source": [
    "# print heads & tails, shape of data\n",
    "print(data_df.head(2))\n",
    "print(data_df.tail(2))\n",
    "print(data_df.shape[0])"
   ]
  },
  {
   "cell_type": "code",
   "execution_count": 74,
   "id": "19472560",
   "metadata": {},
   "outputs": [],
   "source": [
    "# ignore observations with no status\n",
    "data_df = data_df.dropna()"
   ]
  },
  {
   "cell_type": "code",
   "execution_count": 75,
   "id": "3065b324",
   "metadata": {},
   "outputs": [
    {
     "name": "stdout",
     "output_type": "stream",
     "text": [
      "   Married  Education  Self_Employed  Loan_Amount  Coapplicant      Term   \n",
      "0        0          1              0     0.326679            0  0.666667  \\\n",
      "1        1          1              0    -0.101226            1  0.666667   \n",
      "\n",
      "   Credit_History  Area  Status  \n",
      "0               1     0     1.0  \n",
      "1               1     2     0.0  \n",
      "     Married  Education  Self_Employed  Loan_Amount  Coapplicant      Term   \n",
      "501        1          1              0     1.046337            0  0.666667  \\\n",
      "502        0          1              1    -0.003975            0  0.666667   \n",
      "\n",
      "     Credit_History  Area  Status  \n",
      "501               1     0     1.0  \n",
      "502               0     1     0.0  \n",
      "503\n"
     ]
    }
   ],
   "source": [
    "# print heads & tails, shape of data\n",
    "print(data_df.head(2))\n",
    "print(data_df.tail(2))\n",
    "print(data_df.shape[0])  # 503 observations are left"
   ]
  },
  {
   "cell_type": "code",
   "execution_count": 76,
   "id": "f3fb0503",
   "metadata": {},
   "outputs": [
    {
     "name": "stdout",
     "output_type": "stream",
     "text": [
      "   Married  Education  Self_Employed  Loan_Amount  Coapplicant      Term   \n",
      "0        0          1              0     0.326679            0  0.666667  \\\n",
      "1        1          1              0    -0.101226            1  0.666667   \n",
      "2        1          0              0    -0.256828            1  0.666667   \n",
      "3        0          1              0     0.151627            0  0.666667   \n",
      "4        1          0              0    -0.743083            1  0.666667   \n",
      "\n",
      "   Credit_History  Area  \n",
      "0               1     0  \n",
      "1               1     2  \n",
      "2               1     0  \n",
      "3               1     0  \n",
      "4               1     0  \n",
      "0    1.0\n",
      "1    0.0\n",
      "2    1.0\n",
      "3    1.0\n",
      "4    1.0\n",
      "Name: Status, dtype: float64\n"
     ]
    }
   ],
   "source": [
    "# Separate into features (X) and target (Y)\n",
    "X = data_df[[\"Married\", \"Education\", \"Self_Employed\", \"Loan_Amount\", \"Coapplicant\", \"Term\", \"Credit_History\", \"Area\"]]\n",
    "Y = data_df[\"Status\"]\n",
    "\n",
    "print(X.head(5))\n",
    "print(Y.head(5))"
   ]
  },
  {
   "cell_type": "code",
   "execution_count": 77,
   "id": "59a2a3ef",
   "metadata": {},
   "outputs": [],
   "source": [
    "# Separate into train data 90%, test data 10%\n",
    "X_train, X_test, Y_train, Y_test = train_test_split(X, Y, test_size=0.2, random_state=4)"
   ]
  },
  {
   "cell_type": "code",
   "execution_count": 78,
   "id": "7f2e8808",
   "metadata": {},
   "outputs": [],
   "source": [
    "# fit Logistic Regression model\n",
    "clf = LogisticRegression(random_state=4).fit(X_train, Y_train)"
   ]
  },
  {
   "cell_type": "code",
   "execution_count": 79,
   "id": "2e1cf23f",
   "metadata": {},
   "outputs": [
    {
     "name": "stdout",
     "output_type": "stream",
     "text": [
      "0.801980198019802\n"
     ]
    }
   ],
   "source": [
    "# print mean accuracy of model on testing data\n",
    "print(clf.score(X_test, Y_test))"
   ]
  },
  {
   "cell_type": "code",
   "execution_count": 82,
   "id": "07c404ba",
   "metadata": {},
   "outputs": [
    {
     "name": "stdout",
     "output_type": "stream",
     "text": [
      "(16, 19, 1, 65)\n"
     ]
    }
   ],
   "source": [
    "# predict testing data and print confusion matrix\n",
    "predictions = clf.predict(X_test)\n",
    "tn, fp, fn, tp = confusion_matrix(Y_test, predictions).ravel()\n",
    "print((tn, fp, fn, tp))"
   ]
  },
  {
   "cell_type": "code",
   "execution_count": 83,
   "id": "70a56c5a",
   "metadata": {},
   "outputs": [
    {
     "name": "stdout",
     "output_type": "stream",
     "text": [
      "0.9848484848484849\n",
      "0.45714285714285713\n"
     ]
    }
   ],
   "source": [
    "# calculate sensitivity and specificity\n",
    "Sensitivity = tp / (tp + fn)\n",
    "Specificity = tn / (fp + tn)\n",
    "print(Sensitivity)\n",
    "print(Specificity)"
   ]
  },
  {
   "cell_type": "code",
   "execution_count": null,
   "id": "fe4b8784",
   "metadata": {},
   "outputs": [],
   "source": []
  }
 ],
 "metadata": {
  "kernelspec": {
   "display_name": "Python 3 (ipykernel)",
   "language": "python",
   "name": "python3"
  },
  "language_info": {
   "codemirror_mode": {
    "name": "ipython",
    "version": 3
   },
   "file_extension": ".py",
   "mimetype": "text/x-python",
   "name": "python",
   "nbconvert_exporter": "python",
   "pygments_lexer": "ipython3",
   "version": "3.9.4"
  }
 },
 "nbformat": 4,
 "nbformat_minor": 5
}
